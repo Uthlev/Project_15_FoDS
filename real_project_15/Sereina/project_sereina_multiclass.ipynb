{
 "cells": [
  {
   "cell_type": "code",
   "execution_count": 1,
   "id": "485fe41b",
   "metadata": {},
   "outputs": [
    {
     "name": "stdout",
     "output_type": "stream",
     "text": [
      "-    6559\n",
      "+    1977\n",
      "Name: target, dtype: int64\n"
     ]
    },
    {
     "data": {
      "text/plain": [
       "<Figure size 500x500 with 0 Axes>"
      ]
     },
     "metadata": {},
     "output_type": "display_data"
    },
    {
     "data": {
      "text/plain": [
       "<Figure size 500x500 with 0 Axes>"
      ]
     },
     "metadata": {},
     "output_type": "display_data"
    },
    {
     "data": {
      "text/plain": [
       "<Figure size 500x500 with 0 Axes>"
      ]
     },
     "metadata": {},
     "output_type": "display_data"
    },
    {
     "data": {
      "text/plain": [
       "<Figure size 500x500 with 0 Axes>"
      ]
     },
     "metadata": {},
     "output_type": "display_data"
    },
    {
     "data": {
      "text/plain": [
       "<Figure size 500x500 with 0 Axes>"
      ]
     },
     "metadata": {},
     "output_type": "display_data"
    },
    {
     "data": {
      "text/plain": [
       "<Figure size 500x500 with 0 Axes>"
      ]
     },
     "metadata": {},
     "output_type": "display_data"
    },
    {
     "data": {
      "text/plain": [
       "<Figure size 500x500 with 0 Axes>"
      ]
     },
     "metadata": {},
     "output_type": "display_data"
    },
    {
     "data": {
      "text/plain": [
       "<Figure size 500x500 with 0 Axes>"
      ]
     },
     "metadata": {},
     "output_type": "display_data"
    },
    {
     "data": {
      "text/plain": [
       "<Figure size 500x500 with 0 Axes>"
      ]
     },
     "metadata": {},
     "output_type": "display_data"
    },
    {
     "data": {
      "text/plain": [
       "<Figure size 500x500 with 0 Axes>"
      ]
     },
     "metadata": {},
     "output_type": "display_data"
    },
    {
     "data": {
      "text/plain": [
       "<Figure size 500x500 with 0 Axes>"
      ]
     },
     "metadata": {},
     "output_type": "display_data"
    },
    {
     "data": {
      "text/plain": [
       "<Figure size 500x500 with 0 Axes>"
      ]
     },
     "metadata": {},
     "output_type": "display_data"
    },
    {
     "data": {
      "text/plain": [
       "<Figure size 500x500 with 0 Axes>"
      ]
     },
     "metadata": {},
     "output_type": "display_data"
    },
    {
     "data": {
      "text/plain": [
       "<Figure size 500x500 with 0 Axes>"
      ]
     },
     "metadata": {},
     "output_type": "display_data"
    }
   ],
   "source": []
  },
  {
   "cell_type": "code",
   "execution_count": 16,
   "id": "b8a80fef",
   "metadata": {},
   "outputs": [
    {
     "name": "stdout",
     "output_type": "stream",
     "text": [
      "Selected features for k = 15\n",
      "Index(['TSH', 'TT4', 'T4U', 'on_thyroxine_f', 'on_thyroxine_t', 'pregnant_f',\n",
      "       'pregnant_t', 'TSH_measured_f', 'TSH_measured_t', 'TT4_measured_f',\n",
      "       'TT4_measured_t', 'TBG_measured_f', 'TBG_measured_t',\n",
      "       'referral_source_STMW', 'referral_source_SVHC'],\n",
      "      dtype='object')\n",
      "Best Hyperparameters for k = 15\n",
      "{'C': 59, 'gamma': 0.1, 'kernel': 'rbf'}\n",
      "Average Cross-Validation Score: 0.8857637335821817\n",
      "Performance of the SVM model:\n",
      "Accuracy: 0.889; Precision: 0.887; Recall: 0.889; F1 score: 0.882\n",
      "Selected features for k = 16\n",
      "Index(['TSH', 'TT4', 'T4U', 'FTI', 'on_thyroxine_f', 'on_thyroxine_t',\n",
      "       'pregnant_f', 'pregnant_t', 'TSH_measured_f', 'TSH_measured_t',\n",
      "       'TT4_measured_f', 'TT4_measured_t', 'TBG_measured_f', 'TBG_measured_t',\n",
      "       'referral_source_STMW', 'referral_source_SVHC'],\n",
      "      dtype='object')\n",
      "Best Hyperparameters for k = 16\n",
      "{'C': 59, 'gamma': 0.1, 'kernel': 'rbf'}\n",
      "Average Cross-Validation Score: 0.8878144793225321\n",
      "Performance of the SVM model:\n",
      "Accuracy: 0.895; Precision: 0.892; Recall: 0.895; F1 score: 0.889\n",
      "Selected features for k = 17\n",
      "Index(['TSH', 'TT4', 'T4U', 'FTI', 'on_thyroxine_f', 'on_thyroxine_t',\n",
      "       'pregnant_f', 'pregnant_t', 'TSH_measured_f', 'TSH_measured_t',\n",
      "       'TT4_measured_f', 'TT4_measured_t', 'T4U_measured_t', 'TBG_measured_f',\n",
      "       'TBG_measured_t', 'referral_source_STMW', 'referral_source_SVHC'],\n",
      "      dtype='object')\n",
      "Best Hyperparameters for k = 17\n",
      "{'C': 59, 'gamma': 0.1, 'kernel': 'rbf'}\n",
      "Average Cross-Validation Score: 0.8878145865847185\n",
      "Performance of the SVM model:\n",
      "Accuracy: 0.896; Precision: 0.893; Recall: 0.896; F1 score: 0.890\n",
      "Selected features for k = 18\n",
      "Index(['TSH', 'TT4', 'T4U', 'FTI', 'on_thyroxine_f', 'on_thyroxine_t',\n",
      "       'pregnant_f', 'pregnant_t', 'TSH_measured_f', 'TSH_measured_t',\n",
      "       'TT4_measured_f', 'TT4_measured_t', 'T4U_measured_f', 'T4U_measured_t',\n",
      "       'TBG_measured_f', 'TBG_measured_t', 'referral_source_STMW',\n",
      "       'referral_source_SVHC'],\n",
      "      dtype='object')\n",
      "Best Hyperparameters for k = 18\n",
      "{'C': 59, 'gamma': 0.1, 'kernel': 'rbf'}\n",
      "Average Cross-Validation Score: 0.8872285059986378\n",
      "Performance of the SVM model:\n",
      "Accuracy: 0.896; Precision: 0.893; Recall: 0.896; F1 score: 0.890\n",
      "Selected features for k = 19\n",
      "Index(['TSH', 'TT4', 'T4U', 'FTI', 'on_thyroxine_f', 'on_thyroxine_t',\n",
      "       'pregnant_f', 'pregnant_t', 'TSH_measured_f', 'TSH_measured_t',\n",
      "       'TT4_measured_f', 'TT4_measured_t', 'T4U_measured_f', 'T4U_measured_t',\n",
      "       'FTI_measured_f', 'TBG_measured_f', 'TBG_measured_t',\n",
      "       'referral_source_STMW', 'referral_source_SVHC'],\n",
      "      dtype='object')\n",
      "Best Hyperparameters for k = 19\n",
      "{'C': 59, 'gamma': 0.1, 'kernel': 'rbf'}\n",
      "Average Cross-Validation Score: 0.8869356802299702\n",
      "Performance of the SVM model:\n",
      "Accuracy: 0.896; Precision: 0.893; Recall: 0.896; F1 score: 0.890\n",
      "Best k: 17\n",
      "Best Result:\n",
      "{'k': 17, 'selected_features': Index(['TSH', 'TT4', 'T4U', 'FTI', 'on_thyroxine_f', 'on_thyroxine_t',\n",
      "       'pregnant_f', 'pregnant_t', 'TSH_measured_f', 'TSH_measured_t',\n",
      "       'TT4_measured_f', 'TT4_measured_t', 'T4U_measured_t', 'TBG_measured_f',\n",
      "       'TBG_measured_t', 'referral_source_STMW', 'referral_source_SVHC'],\n",
      "      dtype='object'), 'best_model': SVC(C=59, gamma=0.1), 'X_test_scale': array([[-0.16349818,  0.26349138, -0.62916847, ..., -0.1700973 ,\n",
      "        -0.16548382, -0.34466511],\n",
      "       [-0.20250914, -0.2329846 , -0.04231315, ..., -0.1700973 ,\n",
      "        -0.16548382, -0.34466511],\n",
      "       [-0.18950549, -2.07286619, -1.42942571, ..., -0.1700973 ,\n",
      "        -0.16548382, -0.34466511],\n",
      "       ...,\n",
      "       [-0.18950549, -0.46662036, -0.68251895, ..., -0.1700973 ,\n",
      "        -0.16548382,  2.9013671 ],\n",
      "       [-0.16349818,  0.96439865,  2.03835569, ..., -0.1700973 ,\n",
      "        -0.16548382, -0.34466511],\n",
      "       [-0.35855298, -0.20378013, -0.09566364, ...,  5.87898801,\n",
      "        -0.16548382, -0.34466511]]), 'y_test': 5133    -\n",
      "2270    -\n",
      "9104    +\n",
      "5830    -\n",
      "6131    -\n",
      "       ..\n",
      "4279    -\n",
      "4903    -\n",
      "5426    -\n",
      "6487    +\n",
      "8213    -\n",
      "Name: target, Length: 1708, dtype: object, 'best_hyperparameters': {'C': 59, 'gamma': 0.1, 'kernel': 'rbf'}, 'best_accuracy': 0.8957845433255269, 'cv_scores': array([0.90043924, 0.87994143, 0.88506589, 0.88351648, 0.89010989]), 'average_cv_score': 0.8878145865847185, 'accuracy': 0.8957845433255269, 'precision': 0.893045284821856, 'recall': 0.8957845433255269, 'f1_score': 0.8900445269925558}\n"
     ]
    }
   ],
   "source": [
    "\"#################SVM##############################################\"\n",
    "#SVM\n",
    "df = data\n",
    "\n",
    "# extract the predictor variables and the target variable\n",
    "X = df.drop(['target', 'patient_id'], axis=1)\n",
    "y = df['target']\n",
    "\n",
    "# encode categorical variables\n",
    "# get a list of columns where the data type is object\n",
    "object_cols = list(X.select_dtypes(include=['object']).columns)\n",
    "# perform one-hot encoding on categorical variables\n",
    "X = pd.get_dummies(X, columns=object_cols)\n",
    "\n",
    "\n",
    "##### feature selection #####\n",
    "\n",
    "# Define the range of k values\n",
    "k_values = range(15, 20) #### adjust here computational cost ##### ###best value is 17\n",
    "best_f1_score = 0.0\n",
    "best_result = None\n",
    "\n",
    "for k in k_values:\n",
    "    print(\"trial:\", k)\n",
    "    # Apply SelectKBest feature selection\n",
    "    k_best = SelectKBest(score_func=f_classif, k=k)  # Choose the desired number of features (k)\n",
    "    X_selected = k_best.fit_transform(X, y)\n",
    "\n",
    "    # Get the indices of the selected features\n",
    "    selected_indices = k_best.get_support(indices=True)\n",
    "\n",
    "    # Get the names of the selected features (assuming X is a DataFrame)\n",
    "    selected_features = X.columns[selected_indices]\n",
    "\n",
    "    # Print the selected feature names\n",
    "    #print(\"Selected features for k =\", k)\n",
    "    #print(selected_features)\n",
    "    \n",
    "    ##### hyperparameter tuning ######\n",
    "\n",
    "    X_train, X_test, y_train, y_test = train_test_split(X_selected, y, test_size=0.2, random_state=42)\n",
    "\n",
    "    sc = StandardScaler()\n",
    "    X_train_scale = sc.fit_transform(X_train)\n",
    "    X_test_scale = sc.transform(X_test)\n",
    "\n",
    "    # Define the parameter grid\n",
    "    param_grid = {\n",
    "        'C': randint(1, 100),                         # List of discrete values for C\n",
    "        'gamma': [0.001, 0.01, 0.1],                 # List of discrete values for gamma\n",
    "        'kernel': ['linear', 'rbf', 'poly']          # List of kernel options\n",
    "    }\n",
    "\n",
    "    # Create an SVM classifier\n",
    "    svm = SVC()\n",
    "\n",
    "    # Create the RandomizedSearchCV object\n",
    "    random_search = RandomizedSearchCV(estimator=svm, param_distributions=param_grid, n_iter=10, cv=5, random_state=42)\n",
    "\n",
    "    # Perform random search to find the best hyperparameters\n",
    "    random_search.fit(X_train_scale, y_train)\n",
    "\n",
    "    # Evaluate the best model on the testing set\n",
    "    best_model = random_search.best_estimator_\n",
    "    accuracy = best_model.score(X_test_scale, y_test)\n",
    "\n",
    "    # Print the best hyperparameters and the evaluation score\n",
    "    #print(\"Best Hyperparameters for k =\", k)\n",
    "    #print(random_search.best_params_)\n",
    "\n",
    "    # Perform cross-validation\n",
    "    cv_scores = cross_val_score(best_model, X_train_scale, y_train, cv=5)\n",
    "\n",
    "    # Fit the model to the training data\n",
    "    best_model.fit(X_train_scale, y_train)\n",
    "\n",
    "    # Make predictions on the test data\n",
    "    y_pred = best_model.predict(X_test_scale)\n",
    "\n",
    "    # Evaluate the model performance\n",
    "    accuracy = accuracy_score(y_test, y_pred)\n",
    "    precision = precision_score(y_test, y_pred, average='weighted')\n",
    "    recall = recall_score(y_test, y_pred, average='weighted')\n",
    "    f1 = f1_score(y_test, y_pred, average='weighted')\n",
    "\n",
    "    #print(\"Cross-Validation Scores:\", cv_scores)\n",
    "    #print(\"Average Cross-Validation Score:\", np.mean(cv_scores))\n",
    "    #print(\"Performance of the SVM model:\")\n",
    "    #print(\"Accuracy: {:.3f}; Precision: {:.3f}; Recall: {:.3f}; F1 score: {:.3f}\".format(accuracy, precision, recall, f1))\n",
    "\n",
    "    # Update the best k and the corresponding results if the F1 score is better\n",
    "    if f1 > best_f1_score:\n",
    "        best_f1_score = f1\n",
    "        best_result = {\n",
    "            'k': k,\n",
    "            'selected_features': selected_features,\n",
    "            'best_model': best_model,\n",
    "            'X_test_scale': X_test_scale,\n",
    "            'y_test': y_test,\n",
    "            'best_hyperparameters': random_search.best_params_,\n",
    "            'best_accuracy': accuracy,\n",
    "            'cv_scores': cv_scores,\n",
    "            'average_cv_score': np.mean(cv_scores),\n",
    "            'accuracy': accuracy,\n",
    "            'precision': precision,\n",
    "            'recall': recall,\n",
    "            'f1_score': f1\n",
    "        }\n",
    "\n",
    "#print(best_result)"
   ]
  },
  {
   "cell_type": "code",
   "execution_count": 20,
   "id": "75b35237",
   "metadata": {},
   "outputs": [
    {
     "name": "stdout",
     "output_type": "stream",
     "text": [
      "Best Hyperparameters: {'C': 59, 'gamma': 0.1, 'kernel': 'rbf'}\n",
      "Best Feature selection: Index(['TSH', 'TT4', 'T4U', 'FTI', 'on_thyroxine_f', 'on_thyroxine_t',\n",
      "       'pregnant_f', 'pregnant_t', 'TSH_measured_f', 'TSH_measured_t',\n",
      "       'TT4_measured_f', 'TT4_measured_t', 'T4U_measured_t', 'TBG_measured_f',\n",
      "       'TBG_measured_t', 'referral_source_STMW', 'referral_source_SVHC'],\n",
      "      dtype='object')\n",
      "Cross-Validation Scores: [0.90043924 0.87994143 0.88506589 0.88351648 0.89010989]\n",
      "Average Cross-Validation Score: 0.8878145865847185\n",
      "Performance of the SVM model:\n",
      "Accuracy: 0.896; Precision: 0.893; Recall: 0.896; F1 score: 0.890\n"
     ]
    }
   ],
   "source": [
    "print(\"Best k:\", best_result['k'])\n",
    "print(\"Best Hyperparameters:\", best_result['best_hyperparameters'])\n",
    "print(\"Best Feature selection:\", best_result['selected_features'])\n",
    "print(\"Cross-Validation Scores:\", best_result['cv_scores'])\n",
    "print(\"Average Cross-Validation Score:\", best_result['average_cv_score'])\n",
    "print(\"Performance of the SVM model:\")\n",
    "print(\"Accuracy: {:.3f}; Precision: {:.3f}; Recall: {:.3f}; F1 score: {:.3f}\".format(best_result['accuracy'], best_result['precision'], best_result['recall'], best_result['f1_score']))\n"
   ]
  },
  {
   "cell_type": "code",
   "execution_count": 21,
   "id": "65cf5b2b",
   "metadata": {},
   "outputs": [
    {
     "name": "stdout",
     "output_type": "stream",
     "text": [
      "Top 10 features:\n",
      "           Feature  Importance\n",
      "1              TT4    0.159368\n",
      "3              FTI    0.121663\n",
      "0              TSH    0.094848\n",
      "2              T4U    0.085012\n",
      "11  TT4_measured_t    0.068326\n",
      "10  TT4_measured_f    0.068326\n",
      "14  TBG_measured_t    0.051815\n",
      "13  TBG_measured_f    0.051815\n",
      "9   TSH_measured_t    0.050059\n",
      "8   TSH_measured_f    0.050059\n"
     ]
    },
    {
     "data": {
      "image/png": "[encoded data removed]",
      "text/plain": [
       "<Figure size 1000x600 with 1 Axes>"
      ]
     },
     "metadata": {},
     "output_type": "display_data"
    }
   ],
   "source": [
    "#### feature importance\n",
    "\n",
    "# Compute permutation importances\n",
    "perm_importance = permutation_importance(best_result['best_model'], best_result['X_test_scale'], best_result['y_test'], n_repeats=10, random_state=42)\n",
    "feature_importance = perm_importance.importances_mean\n",
    "\n",
    "# Create a DataFrame to store the importances and feature names\n",
    "feature_df = pd.DataFrame({'Feature': best_result['selected_features'], 'Importance': feature_importance})\n",
    "\n",
    "# Sort the DataFrame by importance in descending order\n",
    "feature_df = feature_df.sort_values('Importance', ascending=False)\n",
    "\n",
    "# Get the top 10 features with highest importances\n",
    "top_features = feature_df.head(10)\n",
    "\n",
    "# Get the bottom 10 features with lowest importances\n",
    "#bottom_features = feature_df.tail(10)\n",
    "\n",
    "# Print the top 10 features\n",
    "print(\"Top 10 features:\")\n",
    "print(top_features)\n",
    "\n",
    "# Print the bottom 10 features\n",
    "#print(\"Bottom 10 features:\")\n",
    "#print(bottom_features)\n",
    "\n",
    "plt.figure(figsize=(10, 6))\n",
    "plt.barh(top_features['Feature'], top_features['Importance'])\n",
    "plt.xlabel('Importance')\n",
    "plt.ylabel('Feature')\n",
    "plt.title('Multiclass SVM: Top 10 Features')\n",
    "plt.tight_layout()\n",
    "#plt.show()\n",
    "plt.savefig('../output/SVM_feature_selection_multliclass.png')\n",
    "plt.clf()"
   ]
  }
 ],
 "metadata": {
  "kernelspec": {
   "display_name": "Python 3 (ipykernel)",
   "language": "python",
   "name": "python3"
  },
  "language_info": {
   "codemirror_mode": {
    "name": "ipython",
    "version": 3
   },
   "file_extension": ".py",
   "mimetype": "text/x-python",
   "name": "python",
   "nbconvert_exporter": "python",
   "pygments_lexer": "ipython3",
   "version": "3.10.9"
  }
 },
 "nbformat": 4,
 "nbformat_minor": 5
}
