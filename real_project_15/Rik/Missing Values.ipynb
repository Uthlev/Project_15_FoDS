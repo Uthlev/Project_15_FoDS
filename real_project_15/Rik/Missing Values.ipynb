{
 "cells": [
  {
   "cell_type": "code",
   "execution_count": 1,
   "id": "a0e2aa6b",
   "metadata": {},
   "outputs": [],
   "source": [
    "import matplotlib.pyplot as plt\n",
    "import pandas as pd\n",
    "import numpy as np\n",
    "from sklearn.metrics import accuracy_score, precision_score, recall_score, f1_score, confusion_matrix\n",
    "from sklearn.preprocessing import StandardScaler\n",
    "from sklearn.linear_model import LogisticRegression\n",
    "from sklearn.svm import SVC\n",
    "from sklearn.model_selection import train_test_split\n",
    "import seaborn as sns\n",
    "from sklearn.impute import SimpleImputer\n",
    "from sklearn.tree import DecisionTreeClassifier\n",
    "from sklearn.ensemble import RandomForestClassifier\n",
    "from sklearn.metrics import classification_report\n",
    "from sklearn.model_selection import KFold\n",
    "\n",
    "\n",
    "# read the data\n",
    "data = pd.read_csv(\"../data/thyroidDF.csv\")\n",
    "\n"
   ]
  },
  {
   "cell_type": "code",
   "execution_count": 2,
   "id": "ce6785fd",
   "metadata": {},
   "outputs": [
    {
     "data": {
      "text/plain": [
       "age                       0\n",
       "sex                     307\n",
       "on_thyroxine              0\n",
       "query_on_thyroxine        0\n",
       "on_antithyroid_meds       0\n",
       "sick                      0\n",
       "pregnant                  0\n",
       "thyroid_surgery           0\n",
       "I131_treatment            0\n",
       "query_hypothyroid         0\n",
       "query_hyperthyroid        0\n",
       "lithium                   0\n",
       "goitre                    0\n",
       "tumor                     0\n",
       "hypopituitary             0\n",
       "psych                     0\n",
       "TSH_measured              0\n",
       "TSH                     842\n",
       "T3_measured               0\n",
       "T3                     2604\n",
       "TT4_measured              0\n",
       "TT4                     442\n",
       "T4U_measured              0\n",
       "T4U                     809\n",
       "FTI_measured              0\n",
       "FTI                     802\n",
       "TBG_measured              0\n",
       "TBG                    8823\n",
       "referral_source           0\n",
       "target                    0\n",
       "patient_id                0\n",
       "dtype: int64"
      ]
     },
     "execution_count": 2,
     "metadata": {},
     "output_type": "execute_result"
    }
   ],
   "source": [
    "data.isna().sum()"
   ]
  },
  {
   "cell_type": "code",
   "execution_count": 3,
   "id": "38b55563",
   "metadata": {},
   "outputs": [
    {
     "data": {
      "text/plain": [
       "<Figure size 720x864 with 0 Axes>"
      ]
     },
     "metadata": {},
     "output_type": "display_data"
    }
   ],
   "source": [
    "\"\"\"###################################################################################################\"\"\"\n",
    "\n",
    "# get some information on the data\n",
    "data.describe()\n",
    "data.dtypes\n",
    "data.head(5)\n",
    "data.shape\n",
    "data.isna().sum(axis=0)\n",
    "data['target'].value_counts()\n",
    "data_comp = data.dropna()\n",
    "data_comp.shape\n",
    "\n",
    "\"\"\"###################################################################################################\"\"\"\n",
    "\n",
    "# Distribution plot before cleaning\n",
    "numerical_columns = data.select_dtypes(include=['int', 'float']).columns\n",
    "numerical_columns = [col for col in numerical_columns if col != 'patient_id']\n",
    "num_plots = len(numerical_columns)\n",
    "num_rows = (num_plots + 1) // 2  # Calculate the number of rows\n",
    "fig, axs = plt.subplots(4, 2, figsize=(10,12))\n",
    "for i, column in enumerate(numerical_columns):\n",
    "    row = i // 2\n",
    "    col = i % 2\n",
    "    sns.histplot(data[column], ax=axs[row, col])\n",
    "    axs[row, col].set_title(f'{column} distribution plot')\n",
    "if num_plots % 2 == 1:\n",
    "    fig.delaxes(axs[-1, -1])\n",
    "plt.tight_layout()\n",
    "plt.savefig('../output/displots/displots_init/displots_init.png', dpi = 600)\n",
    "plt.clf()\n",
    "\n",
    "thresholds = {\n",
    "    'age': 110,\n",
    "    'TSH': 100,\n",
    "    'T3': 10,\n",
    "    'TT4': 320,\n",
    "    'T4U': 1000,\n",
    "    'FTI': 400,\n",
    "    'TBG': 125\n",
    "}\n",
    "# Iterate over columns and thresholds\n",
    "for column, threshold in thresholds.items():\n",
    "    # Calculate the most frequent value in the column\n",
    "    most_frequent_value = data[column].mode()[0]\n",
    "    # Create a boolean mask to identify values above the threshold\n",
    "    mask = data[column] > threshold\n",
    "    # Replace values above the threshold with the most frequent value\n",
    "    data.loc[mask, column] = most_frequent_value\n",
    "\n",
    "data = data.drop_duplicates('patient_id')\n",
    "\n",
    "# Select only numerical columns for imputation\n",
    "data_numerical = data[numerical_columns]\n",
    "\n",
    "# Perform most_frequent imputation on numerical data only\n",
    "imputer = SimpleImputer(strategy='most_frequent')\n",
    "data_imputed_numerical = pd.DataFrame(imputer.fit_transform(data_numerical), columns=data_numerical.columns)\n",
    "\n",
    "# Replace original numerical columns with imputed values\n",
    "data[numerical_columns] = data_imputed_numerical"
   ]
  },
  {
   "cell_type": "code",
   "execution_count": 4,
   "id": "1fbb8d40",
   "metadata": {},
   "outputs": [
    {
     "data": {
      "text/plain": [
       "age                      0\n",
       "sex                    307\n",
       "on_thyroxine             0\n",
       "query_on_thyroxine       0\n",
       "on_antithyroid_meds      0\n",
       "sick                     0\n",
       "pregnant                 0\n",
       "thyroid_surgery          0\n",
       "I131_treatment           0\n",
       "query_hypothyroid        0\n",
       "query_hyperthyroid       0\n",
       "lithium                  0\n",
       "goitre                   0\n",
       "tumor                    0\n",
       "hypopituitary            0\n",
       "psych                    0\n",
       "TSH_measured             0\n",
       "TSH                      0\n",
       "T3_measured              0\n",
       "T3                       0\n",
       "TT4_measured             0\n",
       "TT4                      0\n",
       "T4U_measured             0\n",
       "T4U                      0\n",
       "FTI_measured             0\n",
       "FTI                      0\n",
       "TBG_measured             0\n",
       "TBG                      0\n",
       "referral_source          0\n",
       "target                   0\n",
       "patient_id               0\n",
       "dtype: int64"
      ]
     },
     "execution_count": 4,
     "metadata": {},
     "output_type": "execute_result"
    }
   ],
   "source": [
    "data.isna().sum()"
   ]
  },
  {
   "cell_type": "code",
   "execution_count": 5,
   "id": "5cba9f0a",
   "metadata": {},
   "outputs": [],
   "source": [
    "df=data\n",
    "# For missing sex values\n",
    "# Calculate the ratio of males to females\n",
    "male_count = df[df[\"sex\"] == \"M\"].shape[0]\n",
    "female_count = df[df[\"sex\"] == \"F\"].shape[0]\n",
    "ratio = male_count / female_count\n",
    "# Fill in missing sex values with the ratio applied to the missing values\n",
    "missing_sex_count = df[\"sex\"].isnull().sum()\n",
    "missing_male_count = int(round(missing_sex_count / (ratio + 1)))\n",
    "missing_female_count = missing_sex_count - missing_male_count\n",
    "\n",
    "df.loc[df[\"sex\"].isnull(), \"sex\"] = [\"M\"] * missing_male_count + [\"F\"] * missing_female_count"
   ]
  },
  {
   "cell_type": "code",
   "execution_count": 6,
   "id": "049b4891",
   "metadata": {},
   "outputs": [
    {
     "data": {
      "text/plain": [
       "age                    0\n",
       "sex                    0\n",
       "on_thyroxine           0\n",
       "query_on_thyroxine     0\n",
       "on_antithyroid_meds    0\n",
       "sick                   0\n",
       "pregnant               0\n",
       "thyroid_surgery        0\n",
       "I131_treatment         0\n",
       "query_hypothyroid      0\n",
       "query_hyperthyroid     0\n",
       "lithium                0\n",
       "goitre                 0\n",
       "tumor                  0\n",
       "hypopituitary          0\n",
       "psych                  0\n",
       "TSH_measured           0\n",
       "TSH                    0\n",
       "T3_measured            0\n",
       "T3                     0\n",
       "TT4_measured           0\n",
       "TT4                    0\n",
       "T4U_measured           0\n",
       "T4U                    0\n",
       "FTI_measured           0\n",
       "FTI                    0\n",
       "TBG_measured           0\n",
       "TBG                    0\n",
       "referral_source        0\n",
       "target                 0\n",
       "patient_id             0\n",
       "dtype: int64"
      ]
     },
     "execution_count": 6,
     "metadata": {},
     "output_type": "execute_result"
    }
   ],
   "source": [
    "df.isna().sum()"
   ]
  },
  {
   "cell_type": "code",
   "execution_count": null,
   "id": "6f6ad14f",
   "metadata": {},
   "outputs": [],
   "source": []
  }
 ],
 "metadata": {
  "kernelspec": {
   "display_name": "Python 3 (ipykernel)",
   "language": "python",
   "name": "python3"
  },
  "language_info": {
   "codemirror_mode": {
    "name": "ipython",
    "version": 3
   },
   "file_extension": ".py",
   "mimetype": "text/x-python",
   "name": "python",
   "nbconvert_exporter": "python",
   "pygments_lexer": "ipython3",
   "version": "3.10.9"
  }
 },
 "nbformat": 4,
 "nbformat_minor": 5
}
